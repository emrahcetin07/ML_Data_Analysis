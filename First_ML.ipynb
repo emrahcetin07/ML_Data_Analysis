{
  "nbformat": 4,
  "nbformat_minor": 0,
  "metadata": {
    "colab": {
      "provenance": [],
      "collapsed_sections": [],
      "authorship_tag": "ABX9TyMQ+IkWdzB22+Vul92GiOK8",
      "include_colab_link": true
    },
    "kernelspec": {
      "name": "python3",
      "display_name": "Python 3"
    },
    "language_info": {
      "name": "python"
    }
  },
  "cells": [
    {
      "cell_type": "markdown",
      "metadata": {
        "id": "view-in-github",
        "colab_type": "text"
      },
      "source": [
        "<a href=\"https://colab.research.google.com/github/emrahcetin07/ML_First_Code/blob/main/First_ML.ipynb\" target=\"_parent\"><img src=\"https://colab.research.google.com/assets/colab-badge.svg\" alt=\"Open In Colab\"/></a>"
      ]
    },
    {
      "cell_type": "markdown",
      "source": [
        "BTK Akademi ML ilk ders\n"
      ],
      "metadata": {
        "id": "3WB7ICSt9afJ"
      }
    },
    {
      "cell_type": "code",
      "source": [
        "import pandas as pd\n",
        "import numpy as np\n",
        "import matplotlib.pyplot as plt\n",
        "\n",
        "veriler=pd.read_csv('/veriler.csv')\n",
        "print(veriler)"
      ],
      "metadata": {
        "colab": {
          "base_uri": "https://localhost:8080/"
        },
        "id": "pQMhod6x4lHw",
        "outputId": "a5309593-ae39-4673-d354-b9d816d80e83"
      },
      "execution_count": 7,
      "outputs": [
        {
          "output_type": "stream",
          "name": "stdout",
          "text": [
            "   ulke  boy  kilo  yas cinsiyet\n",
            "0    tr  130    30   10        e\n",
            "1    tr  125    36   11        e\n",
            "2    tr  135    34   10        k\n",
            "3    tr  133    30    9        k\n",
            "4    tr  129    38   12        e\n",
            "5    tr  180    90   30        e\n",
            "6    tr  190    80   25        e\n",
            "7    tr  175    90   35        e\n",
            "8    tr  177    60   22        k\n",
            "9    us  185   105   33        e\n",
            "10   us  165    55   27        k\n",
            "11   us  155    50   44        k\n",
            "12   us  160    58   39        k\n",
            "13   us  162    59   41        k\n",
            "14   us  167    62   55        k\n",
            "15   fr  174    70   47        e\n",
            "16   fr  193    90   23        e\n",
            "17   fr  187    80   27        e\n",
            "18   fr  183    88   28        e\n",
            "19   fr  159    40   29        k\n",
            "20   fr  164    66   32        k\n",
            "21   fr  166    56   42        k\n"
          ]
        }
      ]
    },
    {
      "cell_type": "code",
      "source": [
        "boy=veriler[['boy']]\n",
        "print(boy)"
      ],
      "metadata": {
        "colab": {
          "base_uri": "https://localhost:8080/"
        },
        "id": "wt4aQdDo86TJ",
        "outputId": "562ca574-10f2-47be-f688-c7549f6aba59"
      },
      "execution_count": 8,
      "outputs": [
        {
          "output_type": "stream",
          "name": "stdout",
          "text": [
            "    boy\n",
            "0   130\n",
            "1   125\n",
            "2   135\n",
            "3   133\n",
            "4   129\n",
            "5   180\n",
            "6   190\n",
            "7   175\n",
            "8   177\n",
            "9   185\n",
            "10  165\n",
            "11  155\n",
            "12  160\n",
            "13  162\n",
            "14  167\n",
            "15  174\n",
            "16  193\n",
            "17  187\n",
            "18  183\n",
            "19  159\n",
            "20  164\n",
            "21  166\n"
          ]
        }
      ]
    }
  ]
}